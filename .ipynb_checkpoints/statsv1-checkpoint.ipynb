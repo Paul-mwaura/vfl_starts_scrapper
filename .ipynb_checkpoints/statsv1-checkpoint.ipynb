{
 "cells": [
  {
   "cell_type": "code",
   "execution_count": 1,
   "metadata": {},
   "outputs": [],
   "source": [
    "from selenium import webdriver\n",
    "#from selenium.webdriver.common.keys import Keys\n",
    "from selenium.webdriver.chrome.options import Options\n",
    "from time import sleep\n",
    "import pandas as pd\n",
    "options = Options()\n",
    "options.add_argument('--headless')\n",
    "#options.add_argument('--disable-gpu') # \n",
    "#from selenium.webdriver.common.by import By\n",
    "#from selenium.webdriver.support.ui import WebDriverWait\n",
    "#from selenium.webdriver.support import expected_conditions as EC\n",
    "from bs4 import BeautifulSoup\n",
    "import re"
   ]
  },
  {
   "cell_type": "code",
   "execution_count": 2,
   "metadata": {},
   "outputs": [],
   "source": [
    "#conda install -c anaconda html5lib -y"
   ]
  },
  {
   "cell_type": "code",
   "execution_count": 3,
   "metadata": {},
   "outputs": [],
   "source": [
    "valz = []\n",
    "season = []\n",
    "nvall =[]"
   ]
  },
  {
   "cell_type": "code",
   "execution_count": 20,
   "metadata": {},
   "outputs": [
    {
     "ename": "SyntaxError",
     "evalue": "invalid syntax (<ipython-input-20-2d70b113b38b>, line 102)",
     "output_type": "error",
     "traceback": [
      "\u001b[0;36m  File \u001b[0;32m\"<ipython-input-20-2d70b113b38b>\"\u001b[0;36m, line \u001b[0;32m102\u001b[0m\n\u001b[0;31m    except:\u001b[0m\n\u001b[0m         ^\u001b[0m\n\u001b[0;31mSyntaxError\u001b[0m\u001b[0;31m:\u001b[0m invalid syntax\n"
     ]
    }
   ],
   "source": [
    "def countD(n,str1=\"Next job in {} S\"):\n",
    "    countDown = n\n",
    "    while (countDown >= 0):\n",
    "        cc=[]\n",
    "        if countDown != 0:\n",
    "            cc.append(countDown)\n",
    "            print(str1.format(cc[0]),end='\\r')\n",
    "            sleep(1)\n",
    "            cc.clear()\n",
    "            countDown = countDown - 1\n",
    "        else:\n",
    "            break\n",
    "\n",
    "\n",
    "def soupg(html,flak):  # function to extract the much needed SEASON VALUE and NUMBER\n",
    "    soup = BeautifulSoup(html, 'html.parser')\n",
    "    #print(soup.prettify())\n",
    "    #print('YES BITCH')\n",
    "\n",
    "    if flak == 0:\n",
    "        \n",
    "        for lin in soup.find_all(\"li\", class_=\"sb-option\"):\n",
    "\n",
    "            match = re.search(r\"5_(\\d+),\", str(lin))\n",
    "            seasn = lin.text.strip()\n",
    "\n",
    "\n",
    "            if match  is not None:\n",
    "                for vall in match.groups():\n",
    "                  #  print(lin)\n",
    "                    valz.append((vall,seasn))\n",
    "                   \n",
    "                \n",
    "    elif flak == 1:\n",
    "        \n",
    "        va33 = soup.find(\"li\", class_=\"active first\")\n",
    "        #match1 = re.search(r\"10_(\\d+),(\\d+)_(\\d+)\", str(va33))\n",
    "        match1 = re.search(r\"10_(\\d+),\", str(va33))\n",
    "        nval, = match1.groups()\n",
    "        nvall.append(nval)\n",
    "    \n",
    "        \n",
    "\n",
    "        #print(lin)\n",
    "                \n",
    "                \n",
    "   # print(valz)# valz\n",
    "    #return valz\n",
    "    \n",
    "def lData(pageSource,driver,sis):##not being used here\n",
    "    #print( 'Saving BIZ begins bitches!,')\n",
    "    try:\n",
    "        sleep(1)\n",
    "        tables = pd.read_html(pageSource)\n",
    "        len(tables)\n",
    "        for n in range(len(tables)):\n",
    "        \n",
    "            round  = [n+1,n+1,n+1,n+1,n+1,n+1,n+1,n+1]# for round adding\n",
    "            siss = [sis,sis,sis,sis,sis,sis,sis,sis]\n",
    "\n",
    "            dF=tables[n]\n",
    "            dF['ROUND'] = pd.Series(round)# for round adding\n",
    "            dF['SEASON'] = pd.Series(siss)# for round adding\n",
    "            with open('/home/gibeon/Desktop/MY/fvldata/STORAGE/pResu001.csv','a') as f:\n",
    "                dF.to_csv(f, index=False, header=False)\n",
    "        \n",
    "        print('SAVING R DONE')\n",
    "        driver.close()\n",
    "\n",
    "    except:\n",
    "        pass\n",
    "        print('R_Data err')\n",
    "        driver.close()\n",
    "        \n",
    "\n",
    "def lData2(pageSource,driver,sis):##not being used here\n",
    "    #print( 'Saving BIZ begins bitches!,')\n",
    "    #try:\n",
    "    sleep(1)\n",
    "    #print(pageSource)\n",
    "\n",
    "    table = pd.read_html(pageSource)\n",
    "    print('TABLE::::')\n",
    "   # print(table)\n",
    "\n",
    "    #for n in range(len(tables)):\n",
    "\n",
    "       # round  = [n+1,n+1,n+1,n+1,n+1,n+1,n+1,n+1,]# for round adding\n",
    "    siss = [sis,sis,sis,sis,sis,sis,sis,sis,sis,sis,sis,sis,sis,sis,sis,sis]\n",
    "\n",
    "    dF=table[0]\n",
    "    #print(dF)\n",
    "    \n",
    "    #dF['ROUND'] = pd.Series(round)# for round adding\n",
    "    dF['SEASON'] = pd.Series(siss)# for round adding\n",
    "    with open('/home/gibeon/Desktop/MY/fvldata/STORAGE/pTable001.csv', 'a') as f:\n",
    "        dF.to_csv(f, index=False, header=False)\n",
    "\n",
    "    print('SAVING TABLES DONE')\n",
    "    driver.close()\n",
    "\n",
    "    except:\n",
    "        pass\n",
    "        print('Saving err')\n",
    "        driver.close()\n",
    "       \n",
    "\n",
    "\n",
    "        \n",
    "def reload(link,driver,sis = '000000',flag = 0):\n",
    "        print('loading results page')\n",
    "        sleep(0.25)\n",
    "        driver.get(link)\n",
    "        print('getting results page-')\n",
    "        sleep(2)\n",
    "        if flag == 3:\n",
    "            flak = 1\n",
    "        else:\n",
    "            flak = 0\n",
    "        #wait = WebDriverWait(driver, 60)\n",
    "        \n",
    "        seas = sis\n",
    "        \n",
    "        pageSource=(driver.page_source).encode('utf-8')\n",
    "        if flag == 1 or flag == 3:\n",
    "            soupg(pageSource,flak)\n",
    "        elif flag == 2:\n",
    "            lData1(pageSource,driver)\n",
    "        elif flag == 4:\n",
    "            lData2(pageSource,driver,seas)\n",
    "        elif flag ==5:\n",
    "            lData(pageSource,driver,seas)\n",
    "     \n",
    "        else:\n",
    "            lData(pageSource,driver,seas)\n"
   ]
  },
  {
   "cell_type": "code",
   "execution_count": null,
   "metadata": {},
   "outputs": [],
   "source": []
  },
  {
   "cell_type": "code",
   "execution_count": 5,
   "metadata": {},
   "outputs": [],
   "source": [
    "#M  link1 = 'https://vfl3.betradar.com/s4/?clientid=500&language=en&vsportid=1#2_1,3_800,22_7,5_1605040,9_overview'\n",
    "##https://vfl3.betradar.com/s4/?clientid=500&language=en&vsportid=1#2_1,3_800,22_7,5_1611790,9_overview,25_1\n",
    "#link1 ='https://vfl3.betradar.com/s4/?clientid=3540&language=en&vsportid=1#2_1,3_1111,22_7,5_1611792,9_overview,25_1'\n",
    "\n",
    "link1 = 'https://vfl3.betradar.com/s4/?clientid=3540&language=en&vsportid=1#2_1,3_1111,22_7,5_1618238,9_overview,25_1'\n",
    "l_URL = [link1,]           \n",
    "def latest_URL(valz):\n",
    "    #base_http =  'https://vfl3.betradar.com/s4/?clientid=500&language=en&vsportid=1#2_1,3_800,22_7,5_QQQQQQ,9_overview'\n",
    "    #M base_http =  'https://vfl3.betradar.com/s4/?clientid=500&language=en&vsportid=1#2_1,3_800,22_7,5_QQQQQQ,9_overview'\n",
    "    #base_http = 'https://vfl3.betradar.com/s4/?clientid=3540&language=en&vsportid=1#2_1,3_1111,22_7,5_QQQQQQ,9_overview'\n",
    "    \n",
    "    base_http = 'https://vfl3.betradar.com/s4/?clientid=3540&language=en&vsportid=1#2_1,3_1111,22_7,5_QQQQQQ,9_overview'\n",
    "    vas , sis = valz[0]\n",
    "    n_http = base_http.replace('QQQQQQ',vas)\n",
    "    l_URL.append(n_http)\n",
    "    print(l_URL)\n",
    "    \n",
    "    \n",
    "def cdriver():\n",
    "    driver = webdriver.Chrome(executable_path=\"/home/gibeon/Desktop/MY/chromedriver\",options=options)\n",
    "    return driver"
   ]
  },
  {
   "cell_type": "code",
   "execution_count": null,
   "metadata": {},
   "outputs": [],
   "source": []
  },
  {
   "cell_type": "code",
   "execution_count": null,
   "metadata": {},
   "outputs": [],
   "source": []
  },
  {
   "cell_type": "code",
   "execution_count": 6,
   "metadata": {},
   "outputs": [],
   "source": [
    "link = l_URL[-1] "
   ]
  },
  {
   "cell_type": "code",
   "execution_count": 7,
   "metadata": {},
   "outputs": [],
   "source": [
    "#conda install -c anaconda lxml  -y"
   ]
  },
  {
   "cell_type": "code",
   "execution_count": 8,
   "metadata": {},
   "outputs": [
    {
     "name": "stdout",
     "output_type": "stream",
     "text": [
      "loading results page\n",
      "getting results page-\n"
     ]
    }
   ],
   "source": [
    "driver = cdriver()\n",
    "\n",
    "reload(link,driver,flag = 1)\n",
    "\n"
   ]
  },
  {
   "cell_type": "code",
   "execution_count": null,
   "metadata": {},
   "outputs": [],
   "source": []
  },
  {
   "cell_type": "code",
   "execution_count": 9,
   "metadata": {},
   "outputs": [
    {
     "data": {
      "text/plain": [
       "[('1622936', 'Season 12657'),\n",
       " ('1622888', 'Season 12656'),\n",
       " ('1622834', 'Season 12655'),\n",
       " ('1622784', 'Season 12654'),\n",
       " ('1622734', 'Season 12653'),\n",
       " ('1622676', 'Season 12652'),\n",
       " ('1622618', 'Season 12651'),\n",
       " ('1622560', 'Season 12650'),\n",
       " ('1622504', 'Season 12649'),\n",
       " ('1622438', 'Season 12648'),\n",
       " ('1622380', 'Season 12647'),\n",
       " ('1622322', 'Season 12646'),\n",
       " ('1622264', 'Season 12645'),\n",
       " ('1622220', 'Season 12644'),\n",
       " ('1622186', 'Season 12643'),\n",
       " ('1622126', 'Season 12642'),\n",
       " ('1622092', 'Season 12641'),\n",
       " ('1622032', 'Season 12640'),\n",
       " ('1621976', 'Season 12639'),\n",
       " ('1621910', 'Season 12638'),\n",
       " ('1621854', 'Season 12637'),\n",
       " ('1621802', 'Season 12636'),\n",
       " ('1621738', 'Season 12635'),\n",
       " ('1621678', 'Season 12634'),\n",
       " ('1621620', 'Season 12633'),\n",
       " ('1621558', 'Season 12632'),\n",
       " ('1621516', 'Season 12631'),\n",
       " ('1621466', 'Season 12630'),\n",
       " ('1621412', 'Season 12629'),\n",
       " ('1621358', 'Season 12628')]"
      ]
     },
     "execution_count": 9,
     "metadata": {},
     "output_type": "execute_result"
    }
   ],
   "source": [
    "\n",
    "valz"
   ]
  },
  {
   "cell_type": "code",
   "execution_count": 10,
   "metadata": {},
   "outputs": [
    {
     "data": {
      "text/plain": [
       "30"
      ]
     },
     "execution_count": 10,
     "metadata": {},
     "output_type": "execute_result"
    }
   ],
   "source": [
    "len(valz)"
   ]
  },
  {
   "cell_type": "code",
   "execution_count": 11,
   "metadata": {},
   "outputs": [
    {
     "data": {
      "text/plain": [
       "[]"
      ]
     },
     "execution_count": 11,
     "metadata": {},
     "output_type": "execute_result"
    }
   ],
   "source": [
    "season"
   ]
  },
  {
   "cell_type": "code",
   "execution_count": 12,
   "metadata": {},
   "outputs": [
    {
     "data": {
      "text/plain": [
       "[]"
      ]
     },
     "execution_count": 12,
     "metadata": {},
     "output_type": "execute_result"
    }
   ],
   "source": [
    "nvall"
   ]
  },
  {
   "cell_type": "code",
   "execution_count": null,
   "metadata": {},
   "outputs": [],
   "source": []
  },
  {
   "cell_type": "code",
   "execution_count": null,
   "metadata": {},
   "outputs": [],
   "source": []
  },
  {
   "cell_type": "code",
   "execution_count": 13,
   "metadata": {},
   "outputs": [
    {
     "name": "stdout",
     "output_type": "stream",
     "text": [
      "loading results page\n",
      "getting results page-\n",
      "Main count 1 of 30\n",
      "loading results page\n",
      "getting results page-\n",
      "Main count 2 of 30\n",
      "loading results page\n",
      "getting results page-\n",
      "Main count 3 of 30\n",
      "loading results page\n",
      "getting results page-\n",
      "Main count 4 of 30\n",
      "loading results page\n",
      "getting results page-\n",
      "Main count 5 of 30\n",
      "loading results page\n",
      "getting results page-\n",
      "Main count 6 of 30\n",
      "loading results page\n",
      "getting results page-\n",
      "Main count 7 of 30\n",
      "loading results page\n",
      "getting results page-\n",
      "Main count 8 of 30\n",
      "loading results page\n",
      "getting results page-\n",
      "Main count 9 of 30\n",
      "loading results page\n",
      "getting results page-\n",
      "Main count 10 of 30\n",
      "loading results page\n",
      "getting results page-\n",
      "Main count 11 of 30\n",
      "loading results page\n",
      "getting results page-\n",
      "Main count 12 of 30\n",
      "loading results page\n",
      "getting results page-\n",
      "Main count 13 of 30\n",
      "loading results page\n",
      "getting results page-\n",
      "Main count 14 of 30\n",
      "loading results page\n",
      "getting results page-\n",
      "Main count 15 of 30\n",
      "loading results page\n",
      "getting results page-\n",
      "Main count 16 of 30\n",
      "loading results page\n",
      "getting results page-\n",
      "Main count 17 of 30\n",
      "loading results page\n",
      "getting results page-\n",
      "Main count 18 of 30\n",
      "loading results page\n",
      "getting results page-\n",
      "Main count 19 of 30\n",
      "loading results page\n",
      "getting results page-\n",
      "Main count 20 of 30\n",
      "loading results page\n",
      "getting results page-\n",
      "Main count 21 of 30\n",
      "loading results page\n",
      "getting results page-\n",
      "Main count 22 of 30\n",
      "loading results page\n",
      "getting results page-\n",
      "Main count 23 of 30\n",
      "loading results page\n",
      "getting results page-\n",
      "Main count 24 of 30\n",
      "loading results page\n",
      "getting results page-\n",
      "Main count 25 of 30\n",
      "loading results page\n",
      "getting results page-\n",
      "Main count 26 of 30\n",
      "loading results page\n",
      "getting results page-\n",
      "Main count 27 of 30\n",
      "loading results page\n",
      "getting results page-\n",
      "Main count 28 of 30\n",
      "loading results page\n",
      "getting results page-\n",
      "Main count 29 of 30\n",
      "loading results page\n",
      "getting results page-\n",
      "Main count 30 of 30\n"
     ]
    }
   ],
   "source": [
    "r_linkS=[]\n",
    "r_linkR=[]\n",
    "#base_http =  'https://vfl3.betradar.com/s4/?clientid=500&language=en&vsportid=1#2_1,3_800,22_7,5_QQQQQQ,9_overview,25_1,10_PPPPPP,26_5,24_ZZ'\n",
    "#base_http = 'https://vfl3.betradar.com/s4/?clientid=3540&language=en&vsportid=1#2_1,3_1111,22_7,5_QQQQQQ,9_overview,25_1,10_PPPPPP,26_5,24_22'\n",
    "base_http = 'https://vfl3.betradar.com/s4/?clientid=3540&language=en&vsportid=1#2_1,3_1111,22_7,5_QQQQQQ,9_overview,25_1,10_PPPPPP,24_ZZ'\n",
    "           # 'https://vfl3.betradar.com/s4/?clientid=3540&language=en&vsportid=1#2_1,3_1111,22_7,5_1622264,9_fixtures,231_full,23_1'\n",
    "           # 'https://vfl3.betradar.com/s4/?clientid=3540&language=en&vsportid=1#2_1,3_1111,22_7,5_1622220,9_fixtures,231_full,23_1'\n",
    "base_httpr = 'https://vfl3.betradar.com/s4/?clientid=3540&language=en&vsportid=1#2_1,3_1111,22_7,5_QQQQQM,9_fixtures,231_full,23_1'\n",
    "            #'https://vfl3.betradar.com/s4/?clientid=3540&language=en&vsportid=1#2_1,3_1111,22_7,5_1622220,9_fixtures,231_full,23_1'\n",
    "mcount =0\n",
    "for vas1 in valz:\n",
    "    mcount = mcount +1\n",
    "    reload(link,driver,flag = 3)\n",
    "   #print(nvall)\n",
    "    vas , sis = vas1\n",
    "    gen_http = base_http.replace('QQQQQQ',vas)\n",
    "    #print(\"Main count\", mcount ,\"of 30\")\n",
    "\n",
    "    gen_httpr = base_httpr.replace('QQQQQM',vas) # for resu\n",
    "    \n",
    "    r_linkR.append((gen_httpr,sis))\n",
    "    count = 0\n",
    "    for n in range(30):\n",
    "        count=count + 1\n",
    "        gen_http2 = gen_http.replace('PPPPPP',nvall[-1])\n",
    "        gen_http3 = gen_http2.replace('ZZ',str(n+1))\n",
    "        #print(gen_http3)\n",
    "        r_linkS.append((gen_http3,sis))\n",
    "        \n",
    "    print(\"Main count\", mcount ,\"of 30\")"
   ]
  },
  {
   "cell_type": "code",
   "execution_count": 14,
   "metadata": {},
   "outputs": [
    {
     "data": {
      "text/plain": [
       "['3127420',\n",
       " '3127420',\n",
       " '3127420',\n",
       " '3127420',\n",
       " '3127420',\n",
       " '3127420',\n",
       " '3127420',\n",
       " '3127420',\n",
       " '3127420',\n",
       " '3127420',\n",
       " '3127420',\n",
       " '3127420',\n",
       " '3127420',\n",
       " '3127420',\n",
       " '3127420',\n",
       " '3127420',\n",
       " '3127420',\n",
       " '3127420',\n",
       " '3127420',\n",
       " '3127420',\n",
       " '3127420',\n",
       " '3127420',\n",
       " '3127420',\n",
       " '3127420',\n",
       " '3127420',\n",
       " '3127420',\n",
       " '3127420',\n",
       " '3127420',\n",
       " '3127420',\n",
       " '3127420']"
      ]
     },
     "execution_count": 14,
     "metadata": {},
     "output_type": "execute_result"
    }
   ],
   "source": [
    "nvall"
   ]
  },
  {
   "cell_type": "code",
   "execution_count": 19,
   "metadata": {},
   "outputs": [
    {
     "name": "stdout",
     "output_type": "stream",
     "text": [
      "900\n"
     ]
    },
    {
     "data": {
      "text/plain": [
       "[('https://vfl3.betradar.com/s4/?clientid=3540&language=en&vsportid=1#2_1,3_1111,22_7,5_1622936,9_overview,25_1,10_3127420,24_1',\n",
       "  'Season 12657'),\n",
       " ('https://vfl3.betradar.com/s4/?clientid=3540&language=en&vsportid=1#2_1,3_1111,22_7,5_1622936,9_overview,25_1,10_3127420,24_2',\n",
       "  'Season 12657'),\n",
       " ('https://vfl3.betradar.com/s4/?clientid=3540&language=en&vsportid=1#2_1,3_1111,22_7,5_1622936,9_overview,25_1,10_3127420,24_3',\n",
       "  'Season 12657'),\n",
       " ('https://vfl3.betradar.com/s4/?clientid=3540&language=en&vsportid=1#2_1,3_1111,22_7,5_1622936,9_overview,25_1,10_3127420,24_4',\n",
       "  'Season 12657'),\n",
       " ('https://vfl3.betradar.com/s4/?clientid=3540&language=en&vsportid=1#2_1,3_1111,22_7,5_1622936,9_overview,25_1,10_3127420,24_5',\n",
       "  'Season 12657')]"
      ]
     },
     "execution_count": 19,
     "metadata": {},
     "output_type": "execute_result"
    }
   ],
   "source": [
    "#driver.close()\n",
    "print(len(r_linkS))\n",
    "r_linkS[0:5]\n"
   ]
  },
  {
   "cell_type": "code",
   "execution_count": 16,
   "metadata": {},
   "outputs": [
    {
     "name": "stdout",
     "output_type": "stream",
     "text": [
      "30\n"
     ]
    },
    {
     "data": {
      "text/plain": [
       "[('https://vfl3.betradar.com/s4/?clientid=3540&language=en&vsportid=1#2_1,3_1111,22_7,5_1622936,9_fixtures,231_full,23_1',\n",
       "  'Season 12657'),\n",
       " ('https://vfl3.betradar.com/s4/?clientid=3540&language=en&vsportid=1#2_1,3_1111,22_7,5_1622888,9_fixtures,231_full,23_1',\n",
       "  'Season 12656'),\n",
       " ('https://vfl3.betradar.com/s4/?clientid=3540&language=en&vsportid=1#2_1,3_1111,22_7,5_1622834,9_fixtures,231_full,23_1',\n",
       "  'Season 12655')]"
      ]
     },
     "execution_count": 16,
     "metadata": {},
     "output_type": "execute_result"
    }
   ],
   "source": [
    "print(len(r_linkR))\n",
    "r_linkR[:3]"
   ]
  },
  {
   "cell_type": "code",
   "execution_count": null,
   "metadata": {},
   "outputs": [],
   "source": []
  },
  {
   "cell_type": "code",
   "execution_count": 17,
   "metadata": {},
   "outputs": [
    {
     "name": "stdout",
     "output_type": "stream",
     "text": [
      "COUNT: 1 of  900\n",
      "loading results page\n",
      "getting results page-\n",
      "SAVING R DONE\n",
      "COUNT: 2 of  900\n",
      "loading results page\n",
      "getting results page-\n",
      "SAVING R DONE\n",
      "COUNT: 3 of  900\n",
      "loading results page\n",
      "getting results page-\n",
      "SAVING R DONE\n",
      "COUNT: 4 of  900\n",
      "loading results page\n",
      "getting results page-\n",
      "SAVING R DONE\n",
      "COUNT: 5 of  900\n",
      "loading results page\n",
      "getting results page-\n",
      "SAVING R DONE\n",
      "COUNT: 6 of  900\n",
      "loading results page\n",
      "getting results page-\n",
      "SAVING R DONE\n",
      "COUNT: 7 of  900\n",
      "loading results page\n",
      "getting results page-\n",
      "SAVING R DONE\n",
      "COUNT: 8 of  900\n",
      "loading results page\n",
      "getting results page-\n",
      "SAVING R DONE\n",
      "COUNT: 9 of  900\n",
      "loading results page\n",
      "getting results page-\n",
      "SAVING R DONE\n",
      "COUNT: 10 of  900\n",
      "loading results page\n",
      "getting results page-\n",
      "SAVING R DONE\n",
      "COUNT: 11 of  900\n",
      "loading results page\n",
      "getting results page-\n",
      "SAVING R DONE\n",
      "COUNT: 12 of  900\n",
      "loading results page\n",
      "getting results page-\n",
      "SAVING R DONE\n",
      "COUNT: 13 of  900\n",
      "loading results page\n",
      "getting results page-\n",
      "SAVING R DONE\n",
      "COUNT: 14 of  900\n",
      "loading results page\n",
      "getting results page-\n",
      "SAVING R DONE\n",
      "COUNT: 15 of  900\n",
      "loading results page\n",
      "getting results page-\n",
      "SAVING R DONE\n",
      "COUNT: 16 of  900\n",
      "loading results page\n",
      "getting results page-\n",
      "SAVING R DONE\n",
      "COUNT: 17 of  900\n",
      "loading results page\n",
      "getting results page-\n",
      "SAVING R DONE\n",
      "COUNT: 18 of  900\n",
      "loading results page\n",
      "getting results page-\n",
      "SAVING R DONE\n",
      "COUNT: 19 of  900\n",
      "loading results page\n",
      "getting results page-\n",
      "SAVING R DONE\n",
      "COUNT: 20 of  900\n",
      "loading results page\n",
      "getting results page-\n",
      "SAVING R DONE\n",
      "COUNT: 21 of  900\n",
      "loading results page\n",
      "getting results page-\n",
      "SAVING R DONE\n",
      "COUNT: 22 of  900\n",
      "loading results page\n",
      "getting results page-\n",
      "SAVING R DONE\n",
      "COUNT: 23 of  900\n",
      "loading results page\n",
      "getting results page-\n",
      "SAVING R DONE\n",
      "COUNT: 24 of  900\n",
      "loading results page\n",
      "getting results page-\n",
      "SAVING R DONE\n",
      "COUNT: 25 of  900\n",
      "loading results page\n",
      "getting results page-\n",
      "SAVING R DONE\n",
      "COUNT: 26 of  900\n",
      "loading results page\n",
      "getting results page-\n",
      "SAVING R DONE\n",
      "COUNT: 27 of  900\n",
      "loading results page\n",
      "getting results page-\n",
      "SAVING R DONE\n",
      "COUNT: 28 of  900\n",
      "loading results page\n",
      "getting results page-\n",
      "SAVING R DONE\n",
      "COUNT: 29 of  900\n",
      "loading results page\n",
      "getting results page-\n",
      "SAVING R DONE\n",
      "COUNT: 30 of  900\n",
      "loading results page\n",
      "getting results page-\n",
      "SAVING R DONE\n",
      "['https://vfl3.betradar.com/s4/?clientid=3540&language=en&vsportid=1#2_1,3_1111,22_7,5_1618238,9_overview,25_1', 'https://vfl3.betradar.com/s4/?clientid=3540&language=en&vsportid=1#2_1,3_1111,22_7,5_1622936,9_overview']\n"
     ]
    }
   ],
   "source": [
    "count1 = 0\n",
    "st = 0\n",
    "for lin in r_linkR[0:]:\n",
    "    link ,sis = lin\n",
    "    try:\n",
    "\n",
    "        driver = cdriver()\n",
    "        sleep(1)\n",
    "        count1=count1+1\n",
    "        print(\"COUNT:\",count1,'of ',len(r_linkS) - st )\n",
    "        reload(link,driver,sis,flag = 5)\n",
    "\n",
    "    except: \n",
    "        print('am here')\n",
    "        reload(link,driver,sis ,flag = 5)\n",
    "        #sleep(2)\n",
    "\n",
    "#print(valz)\n",
    "latest_URL(valz)\n",
    "r_linkR.clear()  # clear list \n",
    "#valz.clear()\n",
    "\n",
    "\n",
    "\n",
    "#print('To resume in 68hrs ','DONT INTERFERE!!!!')\n",
    "#countD(255000,str1=\"Next RESULT  in {} S\")"
   ]
  },
  {
   "cell_type": "code",
   "execution_count": null,
   "metadata": {},
   "outputs": [],
   "source": []
  },
  {
   "cell_type": "code",
   "execution_count": null,
   "metadata": {},
   "outputs": [
    {
     "name": "stdout",
     "output_type": "stream",
     "text": [
      "COUNT: 1 of  900\n",
      "loading results page\n",
      "getting results page-\n",
      "Saving BIZ begins bitches!,\n",
      "TABLE::::\n",
      "SAVING TABLES DONE\n",
      "COUNT: 2 of  900\n",
      "loading results page\n",
      "getting results page-\n",
      "Saving BIZ begins bitches!,\n",
      "TABLE::::\n",
      "SAVING TABLES DONE\n",
      "COUNT: 3 of  900\n",
      "loading results page\n",
      "getting results page-\n",
      "Saving BIZ begins bitches!,\n",
      "TABLE::::\n",
      "SAVING TABLES DONE\n"
     ]
    }
   ],
   "source": [
    "count1 = 0\n",
    "st = 0\n",
    "for lin in r_linkS[11:]:\n",
    "    link ,sis = lin\n",
    "    try:\n",
    "\n",
    "        driver = cdriver()\n",
    "        sleep(1)\n",
    "        count1=count1+1\n",
    "        print(\"COUNT:\",count1,'of ',len(r_linkS) - st )\n",
    "        reload(link,driver,sis,flag = 4)\n",
    "\n",
    "    except: \n",
    "        print('am here')\n",
    "        reload(link,driver,sis ,flag = 4)\n",
    "        #sleep(2)\n",
    "\n",
    "#print(valz)\n",
    "latest_URL(valz)\n",
    "r_linkS.clear()  # clear list \n",
    "valz.clear()\n",
    "\n",
    "\n",
    "\n",
    "#print('To resume in 68hrs ','DONT INTERFERE!!!!')\n",
    "countD(255000,str1=\"Next RESULT  in {} S\")"
   ]
  },
  {
   "cell_type": "code",
   "execution_count": null,
   "metadata": {},
   "outputs": [],
   "source": []
  },
  {
   "cell_type": "code",
   "execution_count": null,
   "metadata": {},
   "outputs": [],
   "source": []
  },
  {
   "cell_type": "code",
   "execution_count": null,
   "metadata": {},
   "outputs": [],
   "source": []
  },
  {
   "cell_type": "code",
   "execution_count": null,
   "metadata": {},
   "outputs": [],
   "source": []
  },
  {
   "cell_type": "code",
   "execution_count": null,
   "metadata": {},
   "outputs": [],
   "source": []
  },
  {
   "cell_type": "code",
   "execution_count": null,
   "metadata": {},
   "outputs": [],
   "source": []
  },
  {
   "cell_type": "code",
   "execution_count": null,
   "metadata": {},
   "outputs": [],
   "source": []
  },
  {
   "cell_type": "code",
   "execution_count": null,
   "metadata": {},
   "outputs": [],
   "source": [
    "r_linkR"
   ]
  },
  {
   "cell_type": "code",
   "execution_count": null,
   "metadata": {},
   "outputs": [],
   "source": []
  },
  {
   "cell_type": "code",
   "execution_count": null,
   "metadata": {},
   "outputs": [],
   "source": []
  },
  {
   "cell_type": "code",
   "execution_count": null,
   "metadata": {},
   "outputs": [],
   "source": []
  },
  {
   "cell_type": "code",
   "execution_count": null,
   "metadata": {},
   "outputs": [],
   "source": []
  }
 ],
 "metadata": {
  "kernelspec": {
   "display_name": "Python 3",
   "language": "python",
   "name": "python3"
  },
  "language_info": {
   "codemirror_mode": {
    "name": "ipython",
    "version": 3
   },
   "file_extension": ".py",
   "mimetype": "text/x-python",
   "name": "python",
   "nbconvert_exporter": "python",
   "pygments_lexer": "ipython3",
   "version": "3.7.3"
  }
 },
 "nbformat": 4,
 "nbformat_minor": 2
}
