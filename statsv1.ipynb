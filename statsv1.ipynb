{
 "cells": [
  {
   "cell_type": "code",
   "execution_count": 1,
   "metadata": {},
   "outputs": [],
   "source": [
    "##  Code to scrap VFL statistics from betting web site\n",
    "\n",
    "# take a look how it works."
   ]
  },
  {
   "cell_type": "code",
   "execution_count": 2,
   "metadata": {},
   "outputs": [],
   "source": [
    "from selenium import webdriver\n",
    "#from selenium.webdriver.common.keys import Keys\n",
    "from selenium.webdriver.chrome.options import Options\n",
    "from time import sleep\n",
    "import pandas as pd\n",
    "options = Options()\n",
    "options.add_argument('--headless')\n",
    "#options.add_argument('--disable-gpu') # \n",
    "#from selenium.webdriver.common.by import By\n",
    "#from selenium.webdriver.support.ui import WebDriverWait\n",
    "#from selenium.webdriver.support import expected_conditions as EC\n",
    "from bs4 import BeautifulSoup\n",
    "import re"
   ]
  },
  {
   "cell_type": "code",
   "execution_count": 3,
   "metadata": {},
   "outputs": [],
   "source": [
    "#conda install -c anaconda html5lib -y"
   ]
  },
  {
   "cell_type": "code",
   "execution_count": 4,
   "metadata": {},
   "outputs": [],
   "source": [
    "valz = []\n",
    "season = []\n",
    "nvall =[]"
   ]
  },
  {
   "cell_type": "code",
   "execution_count": 5,
   "metadata": {},
   "outputs": [],
   "source": [
    "def countD(n,str1=\"Next job in {} S\"):\n",
    "    countDown = n\n",
    "    while (countDown >= 0):\n",
    "        cc=[]\n",
    "        if countDown != 0:\n",
    "            cc.append(countDown)\n",
    "            print(str1.format(cc[0]),end='\\r')\n",
    "            sleep(1)\n",
    "            cc.clear()\n",
    "            countDown = countDown - 1\n",
    "        else:\n",
    "            break\n",
    "\n",
    "\n",
    "def soupg(html,flak):  # function to extract the much needed SEASON VALUE and NUMBER\n",
    "    soup = BeautifulSoup(html, 'html.parser')\n",
    "    #print(soup.prettify())\n",
    "    #print('YES BITCH')\n",
    "\n",
    "    if flak == 0:\n",
    "        \n",
    "        for lin in soup.find_all(\"li\", class_=\"sb-option\"):\n",
    "\n",
    "            match = re.search(r\"5_(\\d+),\", str(lin))\n",
    "            seasn = lin.text.strip()\n",
    "\n",
    "\n",
    "            if match  is not None:\n",
    "                for vall in match.groups():\n",
    "                  #  print(lin)\n",
    "                    valz.append((vall,seasn))\n",
    "                   \n",
    "                \n",
    "    elif flak == 1:\n",
    "        \n",
    "        va33 = soup.find(\"li\", class_=\"active first\")\n",
    "        #match1 = re.search(r\"10_(\\d+),(\\d+)_(\\d+)\", str(va33))\n",
    "        match1 = re.search(r\"10_(\\d+),\", str(va33))\n",
    "        nval, = match1.groups()\n",
    "        nvall.append(nval)\n",
    "    \n",
    "        \n",
    "\n",
    "        #print(lin)\n",
    "                \n",
    "                \n",
    "   # print(valz)# valz\n",
    "    #return valz\n",
    "    \n",
    "def lData(pageSource,driver,sis):##not being used here\n",
    "    #print( 'Saving BIZ begins bitches!,')\n",
    "    try:\n",
    "        sleep(1)\n",
    "        tables = pd.read_html(pageSource)\n",
    "        len(tables)\n",
    "        for n in range(len(tables)):\n",
    "        \n",
    "            round  = [n+1,n+1,n+1,n+1,n+1,n+1,n+1,n+1]# for round adding\n",
    "            siss = [sis,sis,sis,sis,sis,sis,sis,sis]\n",
    "\n",
    "            dF=tables[n]\n",
    "            dF['ROUND'] = pd.Series(round)# for round adding\n",
    "            dF['SEASON'] = pd.Series(siss)# for round adding\n",
    "            with open('/home/gibeon/Desktop/MY/fvldata/STORAGE/pResu001.csv','a') as f:\n",
    "                dF.to_csv(f, index=False, header=False)\n",
    "        \n",
    "        print('SAVING R DONE')\n",
    "        driver.close()\n",
    "\n",
    "    except:\n",
    "        pass\n",
    "        print('R_Data err')\n",
    "        driver.close()\n",
    "        \n",
    "\n",
    "def lData2(pageSource,driver,sis):##not being used here\n",
    "    #print( 'Saving BIZ begins bitches!,')\n",
    "    try:\n",
    "        sleep(1)\n",
    "        #print(pageSource)\n",
    "\n",
    "        table = pd.read_html(pageSource)\n",
    "        print('TABLE::::')\n",
    "       # print(table)\n",
    "\n",
    "        #for n in range(len(tables)):\n",
    "\n",
    "           # round  = [n+1,n+1,n+1,n+1,n+1,n+1,n+1,n+1,]# for round adding\n",
    "        siss = [sis,sis,sis,sis,sis,sis,sis,sis,sis,sis,sis,sis,sis,sis,sis,sis]\n",
    "\n",
    "        dF=table[0]\n",
    "        #print(dF)\n",
    "\n",
    "        #dF['ROUND'] = pd.Series(round)# for round adding\n",
    "        dF['SEASON'] = pd.Series(siss)# for round adding\n",
    "        with open('/home/gibeon/Desktop/MY/fvldata/STORAGE/pTable001.csv', 'a') as f:\n",
    "            dF.to_csv(f, index=False, header=False)\n",
    "\n",
    "        print('SAVING TABLES DONE')\n",
    "        #driver.close()\n",
    "\n",
    "    except:\n",
    "        \n",
    "            try:\n",
    "                \n",
    "                sleep(1)\n",
    "                #print(pageSource)\n",
    "\n",
    "                table = pd.read_html(pageSource)\n",
    "                print('TABLE::::')\n",
    "               # print(table)\n",
    "\n",
    "                #for n in range(len(tables)):\n",
    "\n",
    "                   # round  = [n+1,n+1,n+1,n+1,n+1,n+1,n+1,n+1,]# for round adding\n",
    "                siss = [sis,sis,sis,sis,sis,sis,sis,sis,sis,sis,sis,sis,sis,sis,sis,sis]\n",
    "\n",
    "                dF=table[0]\n",
    "                #print(dF)\n",
    "\n",
    "                #dF['ROUND'] = pd.Series(round)# for round adding\n",
    "                dF['SEASON'] = pd.Series(siss)# for round adding\n",
    "                with open('/home/gibeon/Desktop/MY/fvldata/STORAGE/pTable001.csv', 'a') as f:\n",
    "                    dF.to_csv(f, index=False, header=False)\n",
    "\n",
    "                print('SAVING TABLES DONE')\n",
    "                driver.close()\n",
    "\n",
    "            except:\n",
    "                pass\n",
    "                print('Saving err')\n",
    "                driver.close()\n",
    "\n",
    "\n",
    "\n",
    "        \n",
    "def reload(link,driver,sis = '000000',flag = 0):\n",
    "        print('loading results page')\n",
    "        sleep(0.25)\n",
    "        driver.get(link)\n",
    "        print('getting results page-')\n",
    "        sleep(2)\n",
    "        if flag == 3:\n",
    "            flak = 1\n",
    "        else:\n",
    "            flak = 0\n",
    "        #wait = WebDriverWait(driver, 60)\n",
    "        \n",
    "        seas = sis\n",
    "        \n",
    "        pageSource=(driver.page_source).encode('utf-8')\n",
    "        if flag == 1 or flag == 3:\n",
    "            soupg(pageSource,flak)\n",
    "        elif flag == 2:\n",
    "            lData1(pageSource,driver)\n",
    "        elif flag == 4:\n",
    "            lData2(pageSource,driver,seas)\n",
    "        elif flag ==5:\n",
    "            lData(pageSource,driver,seas)\n",
    "     \n",
    "        else:\n",
    "            lData(pageSource,driver,seas)\n"
   ]
  },
  {
   "cell_type": "code",
   "execution_count": null,
   "metadata": {},
   "outputs": [],
   "source": []
  },
  {
   "cell_type": "code",
   "execution_count": 6,
   "metadata": {},
   "outputs": [],
   "source": [
    "#M  link1 = 'https://vfl3.betradar.com/s4/?clientid=500&language=en&vsportid=1#2_1,3_800,22_7,5_1605040,9_overview'\n",
    "##https://vfl3.betradar.com/s4/?clientid=500&language=en&vsportid=1#2_1,3_800,22_7,5_1611790,9_overview,25_1\n",
    "#link1 ='https://vfl3.betradar.com/s4/?clientid=3540&language=en&vsportid=1#2_1,3_1111,22_7,5_1611792,9_overview,25_1'\n",
    "\n",
    "#link1 = 'https://vfl3.betradar.com/s4/?clientid=3540&language=en&vsportid=1#2_1,3_1111,22_7,5_1618238,9_overview,25_1'\n",
    "        #'https://vgls.betradar.com/s4/?clientid=1587&language=en&vsportid=1#2_1,3_1111,22_7,5_1633526,9_overview\n",
    "link1 = 'https://vgls.betradar.com/s4/?clientid=1587&language=en&vsportid=1#2_1,3_1111,22_7,5_1633526,9_overview,25_1'\n",
    "l_URL = [link1,]           \n",
    "def latest_URL(valz):\n",
    "    #base_http =  'https://vfl3.betradar.com/s4/?clientid=500&language=en&vsportid=1#2_1,3_800,22_7,5_QQQQQQ,9_overview'\n",
    "    #M base_http =  'https://vfl3.betradar.com/s4/?clientid=500&language=en&vsportid=1#2_1,3_800,22_7,5_QQQQQQ,9_overview'\n",
    "    #base_http = 'https://vfl3.betradar.com/s4/?clientid=3540&language=en&vsportid=1#2_1,3_1111,22_7,5_QQQQQQ,9_overview'\n",
    "    \n",
    "    #base_http = 'https://vfl3.betradar.com/s4/?clientid=3540&language=en&vsportid=1#2_1,3_1111,22_7,5_QQQQQQ,9_overview'\n",
    "    base_http = 'https://vgls.betradar.com/s4/?clientid=1587&language=en&vsportid=1#2_1,3_1111,22_7,5_QQQQQQ,9_overview'\n",
    "    vas , sis = valz[0]\n",
    "    n_http = base_http.replace('QQQQQQ',vas)\n",
    "    l_URL.append(n_http)\n",
    "    print(l_URL)\n",
    "    \n",
    "    \n",
    "def cdriver():\n",
    "    driver = webdriver.Chrome(executable_path=\"/home/gibeon/Desktop/MY/chromedriver\",options=options)\n",
    "    return driver"
   ]
  },
  {
   "cell_type": "code",
   "execution_count": null,
   "metadata": {},
   "outputs": [],
   "source": []
  },
  {
   "cell_type": "code",
   "execution_count": null,
   "metadata": {},
   "outputs": [],
   "source": []
  },
  {
   "cell_type": "code",
   "execution_count": 7,
   "metadata": {},
   "outputs": [],
   "source": [
    "link = l_URL[-1] "
   ]
  },
  {
   "cell_type": "code",
   "execution_count": 8,
   "metadata": {},
   "outputs": [],
   "source": [
    "#conda install -c anaconda lxml  -y"
   ]
  },
  {
   "cell_type": "code",
   "execution_count": 9,
   "metadata": {},
   "outputs": [
    {
     "name": "stdout",
     "output_type": "stream",
     "text": [
      "loading results page\n",
      "getting results page-\n"
     ]
    }
   ],
   "source": [
    "driver = cdriver()\n",
    "\n",
    "reload(link,driver,flag = 1)\n",
    "\n"
   ]
  },
  {
   "cell_type": "code",
   "execution_count": null,
   "metadata": {},
   "outputs": [],
   "source": []
  },
  {
   "cell_type": "code",
   "execution_count": 10,
   "metadata": {},
   "outputs": [
    {
     "data": {
      "text/plain": [
       "[('1639544', 'Season 12968'),\n",
       " ('1639484', 'Season 12967'),\n",
       " ('1639432', 'Season 12966'),\n",
       " ('1639380', 'Season 12965'),\n",
       " ('1639330', 'Season 12964'),\n",
       " ('1639282', 'Season 12963'),\n",
       " ('1639236', 'Season 12962'),\n",
       " ('1639182', 'Season 12961'),\n",
       " ('1639122', 'Season 12960'),\n",
       " ('1639066', 'Season 12959'),\n",
       " ('1639020', 'Season 12958'),\n",
       " ('1638956', 'Season 12957'),\n",
       " ('1638902', 'Season 12956'),\n",
       " ('1638846', 'Season 12955'),\n",
       " ('1638786', 'Season 12954'),\n",
       " ('1638738', 'Season 12953'),\n",
       " ('1638692', 'Season 12952'),\n",
       " ('1638636', 'Season 12951'),\n",
       " ('1638588', 'Season 12950'),\n",
       " ('1638540', 'Season 12949'),\n",
       " ('1638492', 'Season 12948'),\n",
       " ('1638432', 'Season 12947'),\n",
       " ('1638378', 'Season 12946'),\n",
       " ('1638314', 'Season 12945'),\n",
       " ('1638258', 'Season 12944'),\n",
       " ('1638208', 'Season 12943'),\n",
       " ('1638150', 'Season 12942'),\n",
       " ('1638094', 'Season 12941'),\n",
       " ('1638038', 'Season 12940'),\n",
       " ('1637990', 'Season 12939')]"
      ]
     },
     "execution_count": 10,
     "metadata": {},
     "output_type": "execute_result"
    }
   ],
   "source": [
    "\n",
    "valz"
   ]
  },
  {
   "cell_type": "code",
   "execution_count": 11,
   "metadata": {},
   "outputs": [
    {
     "data": {
      "text/plain": [
       "[('1636878', 'Season 12918'),\n",
       " ('1636822', 'Season 12917'),\n",
       " ('1636766', 'Season 12916'),\n",
       " ('1636708', 'Season 12915'),\n",
       " ('1636662', 'Season 12914'),\n",
       " ('1636614', 'Season 12913'),\n",
       " ('1636556', 'Season 12912'),\n",
       " ('1636504', 'Season 12911'),\n",
       " ('1636458', 'Season 12910'),\n",
       " ('1636408', 'Season 12909'),\n",
       " ('1636346', 'Season 12908'),\n",
       " ('1636294', 'Season 12907'),\n",
       " ('1636236', 'Season 12906'),\n",
       " ('1636176', 'Season 12905'),\n",
       " ('1636128', 'Season 12904'),\n",
       " ('1636068', 'Season 12903'),\n",
       " ('1636012', 'Season 12902'),\n",
       " ('1635962', 'Season 12901'),\n",
       " ('1635916', 'Season 12900'),\n",
       " ('1635866', 'Season 12899'),\n",
       " ('1635814', 'Season 12898'),\n",
       " ('1635768', 'Season 12897'),\n",
       " ('1635708', 'Season 12896'),\n",
       " ('1635654', 'Season 12895'),\n",
       " ('1635604', 'Season 12894'),\n",
       " ('1635548', 'Season 12893'),\n",
       " ('1635488', 'Season 12892'),\n",
       " ('1635432', 'Season 12891'),\n",
       " ('1635384', 'Season 12890'),\n",
       " ('1635326', 'Season 12889')]"
      ]
     },
     "execution_count": 11,
     "metadata": {},
     "output_type": "execute_result"
    }
   ],
   "source": [
    "[('1636878', 'Season 12918'),\n",
    " ('1636822', 'Season 12917'),\n",
    " ('1636766', 'Season 12916'),\n",
    " ('1636708', 'Season 12915'),\n",
    " ('1636662', 'Season 12914'),\n",
    " ('1636614', 'Season 12913'),\n",
    " ('1636556', 'Season 12912'),\n",
    " ('1636504', 'Season 12911'),\n",
    " ('1636458', 'Season 12910'),\n",
    " ('1636408', 'Season 12909'),\n",
    " ('1636346', 'Season 12908'),\n",
    " ('1636294', 'Season 12907'),\n",
    " ('1636236', 'Season 12906'),\n",
    " ('1636176', 'Season 12905'),\n",
    " ('1636128', 'Season 12904'),\n",
    " ('1636068', 'Season 12903'),\n",
    " ('1636012', 'Season 12902'),\n",
    " ('1635962', 'Season 12901'),\n",
    " ('1635916', 'Season 12900'),\n",
    " ('1635866', 'Season 12899'),\n",
    " ('1635814', 'Season 12898'),\n",
    " ('1635768', 'Season 12897'),\n",
    " ('1635708', 'Season 12896'),\n",
    " ('1635654', 'Season 12895'),\n",
    " ('1635604', 'Season 12894'),\n",
    " ('1635548', 'Season 12893'),\n",
    " ('1635488', 'Season 12892'),\n",
    " ('1635432', 'Season 12891'),\n",
    " ('1635384', 'Season 12890'),\n",
    " ('1635326', 'Season 12889')]"
   ]
  },
  {
   "cell_type": "code",
   "execution_count": 12,
   "metadata": {},
   "outputs": [
    {
     "ename": "NameError",
     "evalue": "name 'kklen' is not defined",
     "output_type": "error",
     "traceback": [
      "\u001b[0;31m---------------------------------------------------------------------------\u001b[0m",
      "\u001b[0;31mNameError\u001b[0m                                 Traceback (most recent call last)",
      "\u001b[0;32m<ipython-input-12-589c7be07c6d>\u001b[0m in \u001b[0;36m<module>\u001b[0;34m\u001b[0m\n\u001b[0;32m----> 1\u001b[0;31m \u001b[0mkklen\u001b[0m\u001b[0;34m(\u001b[0m\u001b[0mvalz\u001b[0m\u001b[0;34m)\u001b[0m\u001b[0;34m\u001b[0m\u001b[0;34m\u001b[0m\u001b[0m\n\u001b[0m",
      "\u001b[0;31mNameError\u001b[0m: name 'kklen' is not defined"
     ]
    }
   ],
   "source": [
    "kklen(valz)"
   ]
  },
  {
   "cell_type": "code",
   "execution_count": null,
   "metadata": {},
   "outputs": [],
   "source": [
    "season"
   ]
  },
  {
   "cell_type": "code",
   "execution_count": null,
   "metadata": {},
   "outputs": [],
   "source": [
    "nvall"
   ]
  },
  {
   "cell_type": "code",
   "execution_count": null,
   "metadata": {},
   "outputs": [],
   "source": []
  },
  {
   "cell_type": "code",
   "execution_count": null,
   "metadata": {},
   "outputs": [],
   "source": []
  },
  {
   "cell_type": "code",
   "execution_count": null,
   "metadata": {},
   "outputs": [],
   "source": [
    "r_linkS=[]\n",
    "r_linkR=[]\n",
    "#base_http =  'https://vfl3.betradar.com/s4/?clientid=500&language=en&vsportid=1#2_1,3_800,22_7,5_QQQQQQ,9_overview,25_1,10_PPPPPP,26_5,24_ZZ'\n",
    "#base_http = 'https://vfl3.betradar.com/s4/?clientid=3540&language=en&vsportid=1#2_1,3_1111,22_7,5_QQQQQQ,9_overview,25_1,10_PPPPPP,26_5,24_22'\n",
    "base_http = 'https://vfl3.betradar.com/s4/?clientid=3540&language=en&vsportid=1#2_1,3_1111,22_7,5_QQQQQQ,9_overview,25_1,10_PPPPPP,24_ZZ'\n",
    "           # 'https://vfl3.betradar.com/s4/?clientid=3540&language=en&vsportid=1#2_1,3_1111,22_7,5_1622264,9_fixtures,231_full,23_1'\n",
    "           # 'https://vfl3.betradar.com/s4/?clientid=3540&language=en&vsportid=1#2_1,3_1111,22_7,5_1622220,9_fixtures,231_full,23_1'\n",
    "base_httpr = 'https://vfl3.betradar.com/s4/?clientid=3540&language=en&vsportid=1#2_1,3_1111,22_7,5_QQQQQM,9_fixtures,231_full,23_1'\n",
    "            #'https://vfl3.betradar.com/s4/?clientid=3540&language=en&vsportid=1#2_1,3_1111,22_7,5_1622220,9_fixtures,231_full,23_1'\n",
    "mcount =0\n",
    "for vas1 in valz:\n",
    "    mcount = mcount +1\n",
    "    reload(link,driver,flag = 3)\n",
    "   #print(nvall)\n",
    "    vas , sis = vas1\n",
    "    gen_http = base_http.replace('QQQQQQ',vas)\n",
    "    #print(\"Main count\", mcount ,\"of 30\")\n",
    "\n",
    "    gen_httpr = base_httpr.replace('QQQQQM',vas) # for resu\n",
    "    \n",
    "    r_linkR.append((gen_httpr,sis))\n",
    "    count = 0\n",
    "    for n in range(30):\n",
    "        count=count + 1\n",
    "        gen_http2 = gen_http.replace('PPPPPP',nvall[-1])\n",
    "        gen_http3 = gen_http2.replace('ZZ',str(n+1))\n",
    "        #print(gen_http3)\n",
    "        r_linkS.append((gen_http3,sis))\n",
    "        \n",
    "    print(\"Main count\", mcount ,\"of 30\")"
   ]
  },
  {
   "cell_type": "code",
   "execution_count": null,
   "metadata": {},
   "outputs": [],
   "source": [
    "nvall"
   ]
  },
  {
   "cell_type": "code",
   "execution_count": null,
   "metadata": {},
   "outputs": [],
   "source": [
    "#driver.close()\n",
    "print(len(r_linkS))\n",
    "r_linkS[0:5]\n"
   ]
  },
  {
   "cell_type": "code",
   "execution_count": null,
   "metadata": {},
   "outputs": [],
   "source": [
    "print(len(r_linkR))\n",
    "r_linkR[:3]"
   ]
  },
  {
   "cell_type": "code",
   "execution_count": null,
   "metadata": {},
   "outputs": [],
   "source": []
  },
  {
   "cell_type": "code",
   "execution_count": null,
   "metadata": {},
   "outputs": [],
   "source": [
    "count1 = 0\n",
    "st = 0\n",
    "for lin in r_linkR[:]:\n",
    "    link ,sis = lin\n",
    "    try:\n",
    "\n",
    "        driver = cdriver()\n",
    "        sleep(1)\n",
    "        count1=count1+1\n",
    "        print(\"COUNT:\",count1,'of ',len(r_linkS) - st )\n",
    "        reload(link,driver,sis,flag = 5)\n",
    "\n",
    "    except: \n",
    "        print('am here')\n",
    "        reload(link,driver,sis ,flag = 5)\n",
    "        #sleep(2)\n",
    "        pass\n",
    "\n",
    "#print(valz)\n",
    "latest_URL(valz)\n",
    "# r_linkR.clear()  # clear list \n",
    "# valz.clear()\n",
    "\n",
    "\n",
    "\n",
    "# print('To resume in 68hrs ','DONT INTERFERE!!!!')\n",
    "# countD(255000,str1=\"Next RESULT  in {} S\")['https://vgls.betradar.com/s4/?clientid=1587&language=en&vsportid=1#2_1,3_1111,22_7,5_1629892,9_overview,25_1', 'https://vgls.betradar.com/s4/?clientid=1587&language=en&vsportid=1#2_1,3_1111,22_7,5_1629892,9_overview']"
   ]
  },
  {
   "cell_type": "raw",
   "metadata": {},
   "source": [
    "['https://vgls.betradar.com/s4/?clientid=1587&language=en&vsportid=1#2_1,3_1111,22_7,5_1629892,9_overview,25_1', 'https://vgls.betradar.com/s4/?clientid=1587&language=en&vsportid=1#2_1,3_1111,22_7,5_1633526,9_overview']"
   ]
  },
  {
   "cell_type": "code",
   "execution_count": null,
   "metadata": {
    "scrolled": false
   },
   "outputs": [],
   "source": [
    "count1 = 0\n",
    "st = 0\n",
    "for lin in r_linkS[:]:\n",
    "    link ,sis = lin\n",
    "    try:\n",
    "\n",
    "        driver = cdriver()\n",
    "        sleep(1)\n",
    "        count1=count1+1\n",
    "        print(\"COUNT:\",count1,'of ',len(r_linkS) - st )\n",
    "        reload(link,driver,sis,flag = 4)\n",
    "\n",
    "    except: \n",
    "        print('am here')\n",
    "        reload(link,driver,sis ,flag = 4)\n",
    "        #sleep(2)\n",
    "\n",
    "#print(valz)\n",
    "latest_URL(valz)\n",
    "r_linkS.clear()  # clear list \n",
    "valz.clear()\n",
    "\n",
    "\n",
    "\n",
    "#print('To resume in 68hrs ','DONT INTERFERE!!!!')\n",
    "countD(255000,str1=\"Next RESULT  in {} S\")"
   ]
  },
  {
   "cell_type": "code",
   "execution_count": null,
   "metadata": {},
   "outputs": [],
   "source": []
  },
  {
   "cell_type": "code",
   "execution_count": null,
   "metadata": {},
   "outputs": [],
   "source": []
  },
  {
   "cell_type": "code",
   "execution_count": null,
   "metadata": {},
   "outputs": [],
   "source": []
  },
  {
   "cell_type": "code",
   "execution_count": null,
   "metadata": {},
   "outputs": [],
   "source": []
  },
  {
   "cell_type": "code",
   "execution_count": null,
   "metadata": {},
   "outputs": [],
   "source": []
  },
  {
   "cell_type": "code",
   "execution_count": null,
   "metadata": {},
   "outputs": [],
   "source": []
  },
  {
   "cell_type": "code",
   "execution_count": null,
   "metadata": {},
   "outputs": [],
   "source": []
  },
  {
   "cell_type": "code",
   "execution_count": null,
   "metadata": {},
   "outputs": [],
   "source": []
  },
  {
   "cell_type": "code",
   "execution_count": null,
   "metadata": {},
   "outputs": [],
   "source": []
  },
  {
   "cell_type": "code",
   "execution_count": null,
   "metadata": {},
   "outputs": [],
   "source": []
  },
  {
   "cell_type": "code",
   "execution_count": null,
   "metadata": {},
   "outputs": [],
   "source": []
  },
  {
   "cell_type": "code",
   "execution_count": null,
   "metadata": {},
   "outputs": [],
   "source": []
  }
 ],
 "metadata": {
  "kernelspec": {
   "display_name": "Python 3",
   "language": "python",
   "name": "python3"
  },
  "language_info": {
   "codemirror_mode": {
    "name": "ipython",
    "version": 3
   },
   "file_extension": ".py",
   "mimetype": "text/x-python",
   "name": "python",
   "nbconvert_exporter": "python",
   "pygments_lexer": "ipython3",
   "version": "3.7.3"
  }
 },
 "nbformat": 4,
 "nbformat_minor": 2
}
